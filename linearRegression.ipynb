{
 "cells": [
  {
   "cell_type": "code",
   "execution_count": 1,
   "id": "e18d5707",
   "metadata": {
    "execution": {
     "iopub.execute_input": "2025-03-22T13:24:49.894720Z",
     "iopub.status.busy": "2025-03-22T13:24:49.894291Z",
     "iopub.status.idle": "2025-03-22T13:24:49.900074Z",
     "shell.execute_reply": "2025-03-22T13:24:49.898831Z"
    },
    "papermill": {
     "duration": 0.012303,
     "end_time": "2025-03-22T13:24:49.901761",
     "exception": false,
     "start_time": "2025-03-22T13:24:49.889458",
     "status": "completed"
    },
    "tags": []
   },
   "outputs": [],
   "source": [
    "import random\n",
    "import matplotlib.pyplot as plt"
   ]
  },
  {
   "cell_type": "code",
   "execution_count": 2,
   "id": "2bd2bc93",
   "metadata": {
    "execution": {
     "iopub.execute_input": "2025-03-22T13:24:49.909657Z",
     "iopub.status.busy": "2025-03-22T13:24:49.909346Z",
     "iopub.status.idle": "2025-03-22T13:24:49.919571Z",
     "shell.execute_reply": "2025-03-22T13:24:49.918530Z"
    },
    "papermill": {
     "duration": 0.015824,
     "end_time": "2025-03-22T13:24:49.921397",
     "exception": false,
     "start_time": "2025-03-22T13:24:49.905573",
     "status": "completed"
    },
    "tags": []
   },
   "outputs": [],
   "source": [
    "file_path = \"/kaggle/input/salary123/salary_data (1).csv\"\n",
    "dataset = open(file_path, \"r\")\n",
    "lines = dataset.readlines()\n",
    "cols = lines[0].split(',')\n",
    "cols = [col.strip() for col in cols]\n",
    "dataset.close()"
   ]
  },
  {
   "cell_type": "code",
   "execution_count": 3,
   "id": "492c6c71",
   "metadata": {
    "execution": {
     "iopub.execute_input": "2025-03-22T13:24:49.929036Z",
     "iopub.status.busy": "2025-03-22T13:24:49.928662Z",
     "iopub.status.idle": "2025-03-22T13:24:49.933776Z",
     "shell.execute_reply": "2025-03-22T13:24:49.932803Z"
    },
    "papermill": {
     "duration": 0.010651,
     "end_time": "2025-03-22T13:24:49.935500",
     "exception": false,
     "start_time": "2025-03-22T13:24:49.924849",
     "status": "completed"
    },
    "tags": []
   },
   "outputs": [],
   "source": [
    "all_data = {col: [] for col in cols}\n",
    "for line in lines[1:]:\n",
    "    values = line.split(',')\n",
    "    values = [val.strip() for val in values]\n",
    "    all_data['YearsExperience'].append(float(values[0]))\n",
    "    all_data['Salary'].append(float(values[1]))"
   ]
  },
  {
   "cell_type": "code",
   "execution_count": 4,
   "id": "9a3e6042",
   "metadata": {
    "execution": {
     "iopub.execute_input": "2025-03-22T13:24:49.942755Z",
     "iopub.status.busy": "2025-03-22T13:24:49.942350Z",
     "iopub.status.idle": "2025-03-22T13:24:49.948409Z",
     "shell.execute_reply": "2025-03-22T13:24:49.947329Z"
    },
    "papermill": {
     "duration": 0.011652,
     "end_time": "2025-03-22T13:24:49.950263",
     "exception": false,
     "start_time": "2025-03-22T13:24:49.938611",
     "status": "completed"
    },
    "tags": []
   },
   "outputs": [],
   "source": [
    "indices = list(range(len(all_data['YearsExperience'])))\n",
    "random.shuffle(indices)\n",
    "\n",
    "split_idx = int(0.8 * len(indices))\n",
    "train_indices = indices[:split_idx]\n",
    "test_indices = indices[split_idx:]\n",
    "\n",
    "train_df = {'YearsExperience': [], 'Salary': []}\n",
    "test_df = {'YearsExperience': [], 'Salary': []}\n",
    "\n",
    "for idx in train_indices:\n",
    "    train_df['YearsExperience'].append(all_data['YearsExperience'][idx])\n",
    "    train_df['Salary'].append(all_data['Salary'][idx])\n",
    "\n",
    "for idx in test_indices:\n",
    "    test_df['YearsExperience'].append(all_data['YearsExperience'][idx])\n",
    "    test_df['Salary'].append(all_data['Salary'][idx])"
   ]
  },
  {
   "cell_type": "code",
   "execution_count": 5,
   "id": "008a087f",
   "metadata": {
    "execution": {
     "iopub.execute_input": "2025-03-22T13:24:49.957632Z",
     "iopub.status.busy": "2025-03-22T13:24:49.957258Z",
     "iopub.status.idle": "2025-03-22T13:24:49.961895Z",
     "shell.execute_reply": "2025-03-22T13:24:49.960946Z"
    },
    "papermill": {
     "duration": 0.010122,
     "end_time": "2025-03-22T13:24:49.963581",
     "exception": false,
     "start_time": "2025-03-22T13:24:49.953459",
     "status": "completed"
    },
    "tags": []
   },
   "outputs": [],
   "source": [
    "total_years = 0\n",
    "total_salary = 0\n",
    "n = 0\n",
    "for x in train_df['YearsExperience']:\n",
    "    total_years += x\n",
    "    n += 1\n",
    "for y in train_df['Salary']:\n",
    "    total_salary += y\n",
    "\n",
    "mean_years = total_years / n\n",
    "mean_salary = total_salary / n"
   ]
  },
  {
   "cell_type": "code",
   "execution_count": 6,
   "id": "2c3b1b3a",
   "metadata": {
    "execution": {
     "iopub.execute_input": "2025-03-22T13:24:49.970745Z",
     "iopub.status.busy": "2025-03-22T13:24:49.970426Z",
     "iopub.status.idle": "2025-03-22T13:24:49.974970Z",
     "shell.execute_reply": "2025-03-22T13:24:49.973906Z"
    },
    "papermill": {
     "duration": 0.009932,
     "end_time": "2025-03-22T13:24:49.976626",
     "exception": false,
     "start_time": "2025-03-22T13:24:49.966694",
     "status": "completed"
    },
    "tags": []
   },
   "outputs": [],
   "source": [
    "standard_years = 0\n",
    "for x in train_df['YearsExperience']:\n",
    "    standard_years += (x - mean_years) ** 2\n",
    "standard_years = (standard_years / n) ** 0.5"
   ]
  },
  {
   "cell_type": "code",
   "execution_count": 7,
   "id": "77275e1d",
   "metadata": {
    "execution": {
     "iopub.execute_input": "2025-03-22T13:24:49.983793Z",
     "iopub.status.busy": "2025-03-22T13:24:49.983358Z",
     "iopub.status.idle": "2025-03-22T13:24:49.988402Z",
     "shell.execute_reply": "2025-03-22T13:24:49.987561Z"
    },
    "papermill": {
     "duration": 0.01032,
     "end_time": "2025-03-22T13:24:49.989938",
     "exception": false,
     "start_time": "2025-03-22T13:24:49.979618",
     "status": "completed"
    },
    "tags": []
   },
   "outputs": [],
   "source": [
    "m_num = 0\n",
    "m_den = 0\n",
    "for i in range(n):\n",
    "    m_num += (train_df['YearsExperience'][i] - mean_years) * (train_df['Salary'][i] - mean_salary)\n",
    "for x in train_df['YearsExperience']:\n",
    "    m_den += (x - mean_years) ** 2\n",
    "\n",
    "m = m_num / m_den\n",
    "b = mean_salary - m * mean_years"
   ]
  },
  {
   "cell_type": "code",
   "execution_count": 8,
   "id": "83d3b20d",
   "metadata": {
    "execution": {
     "iopub.execute_input": "2025-03-22T13:24:49.996833Z",
     "iopub.status.busy": "2025-03-22T13:24:49.996503Z",
     "iopub.status.idle": "2025-03-22T13:24:50.000724Z",
     "shell.execute_reply": "2025-03-22T13:24:49.999741Z"
    },
    "papermill": {
     "duration": 0.009553,
     "end_time": "2025-03-22T13:24:50.002509",
     "exception": false,
     "start_time": "2025-03-22T13:24:49.992956",
     "status": "completed"
    },
    "tags": []
   },
   "outputs": [],
   "source": [
    "test_df['Predicted_Salary'] = [m * x + b for x in test_df['YearsExperience']]"
   ]
  },
  {
   "cell_type": "code",
   "execution_count": 9,
   "id": "612a1819",
   "metadata": {
    "execution": {
     "iopub.execute_input": "2025-03-22T13:24:50.009763Z",
     "iopub.status.busy": "2025-03-22T13:24:50.009415Z",
     "iopub.status.idle": "2025-03-22T13:24:50.015839Z",
     "shell.execute_reply": "2025-03-22T13:24:50.014660Z"
    },
    "papermill": {
     "duration": 0.012288,
     "end_time": "2025-03-22T13:24:50.017836",
     "exception": false,
     "start_time": "2025-03-22T13:24:50.005548",
     "status": "completed"
    },
    "tags": []
   },
   "outputs": [
    {
     "name": "stdout",
     "output_type": "stream",
     "text": [
      "Mean Squared Error (MSE): 376702241.34\n",
      "Root Mean Squared Error (RMSE): 19408.82\n"
     ]
    }
   ],
   "source": [
    "mse = 0\n",
    "for i in range(len(test_df['Salary'])):\n",
    "    mse += (test_df['Predicted_Salary'][i] - test_df['Salary'][i]) ** 2\n",
    "mse /= len(test_df['Salary'])\n",
    "rmse = mse ** 0.5\n",
    "\n",
    "print(f\"Mean Squared Error (MSE): {mse:.2f}\")\n",
    "print(f\"Root Mean Squared Error (RMSE): {rmse:.2f}\")"
   ]
  },
  {
   "cell_type": "code",
   "execution_count": 10,
   "id": "6e6d651b",
   "metadata": {
    "execution": {
     "iopub.execute_input": "2025-03-22T13:24:50.025912Z",
     "iopub.status.busy": "2025-03-22T13:24:50.025488Z",
     "iopub.status.idle": "2025-03-22T13:24:50.032096Z",
     "shell.execute_reply": "2025-03-22T13:24:50.030823Z"
    },
    "papermill": {
     "duration": 0.012511,
     "end_time": "2025-03-22T13:24:50.033696",
     "exception": false,
     "start_time": "2025-03-22T13:24:50.021185",
     "status": "completed"
    },
    "tags": []
   },
   "outputs": [
    {
     "name": "stdout",
     "output_type": "stream",
     "text": [
      "R-squared: 0.9775\n"
     ]
    }
   ],
   "source": [
    "ss_total = 0\n",
    "ss_residual = 0\n",
    "for i in range(len(test_df['Salary'])):\n",
    "    ss_total += (test_df['Salary'][i] - mean_salary) ** 2\n",
    "    ss_residual += (test_df['Salary'][i] - test_df['Predicted_Salary'][i]) ** 2\n",
    "r_squared = 1 - (ss_residual / ss_total)\n",
    "print(f\"R-squared: {r_squared:.4f}\")"
   ]
  },
  {
   "cell_type": "code",
   "execution_count": 11,
   "id": "c6769311",
   "metadata": {
    "execution": {
     "iopub.execute_input": "2025-03-22T13:24:50.041159Z",
     "iopub.status.busy": "2025-03-22T13:24:50.040784Z",
     "iopub.status.idle": "2025-03-22T13:24:50.386794Z",
     "shell.execute_reply": "2025-03-22T13:24:50.385683Z"
    },
    "papermill": {
     "duration": 0.351647,
     "end_time": "2025-03-22T13:24:50.388614",
     "exception": false,
     "start_time": "2025-03-22T13:24:50.036967",
     "status": "completed"
    },
    "tags": []
   },
   "outputs": [
    {
     "data": {
      "image/png": "[encoded data removed]",
      "text/plain": [
       "<Figure size 1000x600 with 1 Axes>"
      ]
     },
     "metadata": {},
     "output_type": "display_data"
    }
   ],
   "source": [
    "plt.figure(figsize=(10, 6))\n",
    "plt.scatter(test_df['YearsExperience'], test_df['Salary'], color='blue', label='Actual')\n",
    "plt.plot(test_df['YearsExperience'], test_df['Predicted_Salary'], color='red', label='Predicted')\n",
    "plt.xlabel('Years of Experience')\n",
    "plt.ylabel('Salary')\n",
    "plt.title('Linear Regression: Actual vs Predicted Salary')\n",
    "plt.legend()\n",
    "plt.grid(True)\n",
    "plt.show()\n"
   ]
  }
 ],
 "metadata": {
  "kaggle": {
   "accelerator": "none",
   "dataSources": [
    {
     "datasetId": 6933642,
     "sourceId": 11119288,
     "sourceType": "datasetVersion"
    }
   ],
   "dockerImageVersionId": 30918,
   "isGpuEnabled": false,
   "isInternetEnabled": true,
   "language": "python",
   "sourceType": "notebook"
  },
  "kernelspec": {
   "display_name": "Python 3",
   "language": "python",
   "name": "python3"
  },
  "language_info": {
   "codemirror_mode": {
    "name": "ipython",
    "version": 3
   },
   "file_extension": ".py",
   "mimetype": "text/x-python",
   "name": "python",
   "nbconvert_exporter": "python",
   "pygments_lexer": "ipython3",
   "version": "3.10.12"
  },
  "papermill": {
   "default_parameters": {},
   "duration": 3.687977,
   "end_time": "2025-03-22T13:24:50.811450",
   "environment_variables": {},
   "exception": null,
   "input_path": "__notebook__.ipynb",
   "output_path": "__notebook__.ipynb",
   "parameters": {},
   "start_time": "2025-03-22T13:24:47.123473",
   "version": "2.6.0"
  }
 },
 "nbformat": 4,
 "nbformat_minor": 5
}
